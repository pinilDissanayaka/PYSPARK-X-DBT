{
 "cells": [
  {
   "cell_type": "code",
   "execution_count": 0,
   "metadata": {
    "application/vnd.databricks.v1+cell": {
     "cellMetadata": {
      "byteLimit": 2048000,
      "rowLimit": 10000
     },
     "inputWidgets": {},
     "nuid": "9da98b8c-e3b6-420f-9b2b-0731e83840dc",
     "showTitle": false,
     "tableResultSettingsMap": {},
     "title": ""
    }
   },
   "outputs": [],
   "source": [
    "from pyspark.sql.functions import *\n",
    "from pyspark.sql.types import *\n",
    "from pyspark.sql.window import Window\n",
    "from delta.tables import DeltaTable"
   ]
  },
  {
   "cell_type": "code",
   "execution_count": 0,
   "metadata": {
    "application/vnd.databricks.v1+cell": {
     "cellMetadata": {
      "byteLimit": 2048000,
      "rowLimit": 10000
     },
     "inputWidgets": {},
     "nuid": "135a15a2-7c8d-47a3-ae41-5de044defc01",
     "showTitle": false,
     "tableResultSettingsMap": {},
     "title": ""
    }
   },
   "outputs": [],
   "source": [
    "df = spark.read.table(\"uber.bronze.customers\")"
   ]
  },
  {
   "cell_type": "code",
   "execution_count": 0,
   "metadata": {
    "application/vnd.databricks.v1+cell": {
     "cellMetadata": {
      "byteLimit": 2048000,
      "rowLimit": 10000
     },
     "inputWidgets": {},
     "nuid": "b561d396-8639-4a09-bd45-cb6b0a11a93b",
     "showTitle": false,
     "tableResultSettingsMap": {},
     "title": ""
    }
   },
   "outputs": [],
   "source": [
    "display(df)"
   ]
  },
  {
   "cell_type": "code",
   "execution_count": 0,
   "metadata": {
    "application/vnd.databricks.v1+cell": {
     "cellMetadata": {
      "byteLimit": 2048000,
      "rowLimit": 10000
     },
     "inputWidgets": {},
     "nuid": "d97b5b6a-a1f1-47bc-854c-1e4f1a2f85ec",
     "showTitle": false,
     "tableResultSettingsMap": {},
     "title": ""
    }
   },
   "outputs": [],
   "source": [
    "df = df.withColumn(\"domain\", split(df.email, \"@\")[1])\n",
    "\n",
    "display(df)"
   ]
  },
  {
   "cell_type": "code",
   "execution_count": 0,
   "metadata": {
    "application/vnd.databricks.v1+cell": {
     "cellMetadata": {
      "byteLimit": 2048000,
      "rowLimit": 10000
     },
     "inputWidgets": {},
     "nuid": "0907a3f7-e123-48b6-9cfd-32153c4f1af5",
     "showTitle": false,
     "tableResultSettingsMap": {},
     "title": ""
    }
   },
   "outputs": [],
   "source": [
    "df = df.withColumn(\"full_name\", concat_ws(\" \", df.first_name, df.last_name)).drop(\"first_name\", \"last_name\")\n",
    "\n",
    "display(df)"
   ]
  },
  {
   "cell_type": "code",
   "execution_count": 0,
   "metadata": {
    "application/vnd.databricks.v1+cell": {
     "cellMetadata": {
      "byteLimit": 2048000,
      "rowLimit": 10000
     },
     "inputWidgets": {},
     "nuid": "29f84735-bf81-424d-b159-0cd1e8e1f819",
     "showTitle": false,
     "tableResultSettingsMap": {},
     "title": ""
    }
   },
   "outputs": [],
   "source": [
    " class Transformations:\n",
    "     @classmethod\n",
    "     def dedup(cls, df, key, order_by_col):\n",
    "         df_with_rank = df.withColumn(\"row_num\", row_number().over(Window.partitionBy(key).orderBy(col(order_by_col).desc())))\n",
    "         dedup_df = df_with_rank.filter(col(\"row_num\") == 1).drop(\"row_num\")\n",
    "         return dedup_df\n",
    "     \n",
    "     @classmethod\n",
    "     def add_last_process_date(cls, df):\n",
    "         df = df.withColumn(\"last_updated_timestamp\", current_timestamp())\n",
    "         return df\n",
    "     \n",
    "     @classmethod\n",
    "     def upsert(cls, df, table_name, keycols, cdc):\n",
    "         merger_condition = \" AND \".join([f\"t.{keycol} = s.{keycol}\" for keycol in keycols])\n",
    "         delta_table = DeltaTable.forName(spark, table_name)\n",
    "         delta_table.alias(\"t\").merge(\n",
    "             df.alias(\"s\"),\n",
    "             (\"t.customer_id = s.customer_id\"))\\\n",
    "             .whenMatchedUpdateAll()\\\n",
    "                 .whenNotMatchedInsertAll()\\\n",
    "                 .execute()\n",
    "\n",
    "         return 1"
   ]
  },
  {
   "cell_type": "code",
   "execution_count": 0,
   "metadata": {
    "application/vnd.databricks.v1+cell": {
     "cellMetadata": {
      "byteLimit": 2048000,
      "rowLimit": 10000
     },
     "inputWidgets": {},
     "nuid": "644ea419-938d-48c9-8039-628d5ecddd41",
     "showTitle": false,
     "tableResultSettingsMap": {},
     "title": ""
    }
   },
   "outputs": [],
   "source": [
    "transform_df = Transformations.dedup(df, \"customer_id\", \"last_updated_timestamp\")\n",
    "transform_df = Transformations.add_last_process_date(transform_df)\n",
    "display(transform_df)"
   ]
  },
  {
   "cell_type": "code",
   "execution_count": 0,
   "metadata": {
    "application/vnd.databricks.v1+cell": {
     "cellMetadata": {
      "byteLimit": 2048000,
      "rowLimit": 10000
     },
     "inputWidgets": {},
     "nuid": "cd07d1b4-b623-4087-8304-e6c39d6aaa10",
     "showTitle": false,
     "tableResultSettingsMap": {},
     "title": ""
    }
   },
   "outputs": [],
   "source": [
    "if not spark.catalog.tableExists(\"uber.silver.customers\"):\n",
    "    transform_df.write.format(\"delta\")\\\n",
    "        .mode(\"append\")\\\n",
    "            .saveAsTable(\"uber.silver.customers\")\n",
    "else:\n",
    "    Transformations.upsert(transform_df, \"uber.silver.customers\", [\"customer_id\"], \"update\")"
   ]
  },
  {
   "cell_type": "code",
   "execution_count": 0,
   "metadata": {
    "application/vnd.databricks.v1+cell": {
     "cellMetadata": {
      "byteLimit": 2048000,
      "rowLimit": 10000
     },
     "inputWidgets": {},
     "nuid": "58734ef5-c5bb-4311-8422-833a390b3496",
     "showTitle": false,
     "tableResultSettingsMap": {},
     "title": ""
    }
   },
   "outputs": [],
   "source": [
    "\n"
   ]
  },
  {
   "cell_type": "code",
   "execution_count": 0,
   "metadata": {
    "application/vnd.databricks.v1+cell": {
     "cellMetadata": {},
     "inputWidgets": {},
     "nuid": "85214715-a5be-4c9e-9bf8-78cd8056791d",
     "showTitle": false,
     "tableResultSettingsMap": {},
     "title": ""
    }
   },
   "outputs": [],
   "source": []
  }
 ],
 "metadata": {
  "application/vnd.databricks.v1+notebook": {
   "computePreferences": {
    "hardware": {
     "accelerator": null,
     "gpuPoolId": null,
     "memory": null
    }
   },
   "dashboards": [],
   "environmentMetadata": {
    "base_environment": "",
    "environment_version": "3"
   },
   "inputWidgetPreferences": null,
   "language": "python",
   "notebookMetadata": {
    "pythonIndentUnit": 4
   },
   "notebookName": "silver",
   "widgets": {}
  },
  "language_info": {
   "name": "python"
  }
 },
 "nbformat": 4,
 "nbformat_minor": 0
}
